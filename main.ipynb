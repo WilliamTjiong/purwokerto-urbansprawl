{
 "cells": [
  {
   "cell_type": "markdown",
   "metadata": {},
   "source": [
    "**Urban sprawl Purwokerto, Indonesia 1988-2011**"
   ]
  },
  {
   "cell_type": "code",
   "execution_count": null,
   "metadata": {},
   "outputs": [],
   "source": [
    "#libraries\n",
    "import pandas as pd\n",
    "import os\n",
    "import fiona\n",
    "import rasterio as rio\n",
    "import numpy as np\n",
    "from PIL import Image\n",
    "\n",
    "#custom modules\n",
    "from scripts.data_acquisition import getProductUrls_Google,downloadlProducts_Google\n",
    "from scripts.misc_functions import getFilePath,listUrlFromDataframe,clipRaster, normalize\n",
    "\n",
    "#create/ specify data and output directories\n",
    "datadir='./data/'\n",
    "scenedir='./scenes/'\n",
    "outputdir='./output/'\n",
    "os.makedirs(scenedir,exist_ok=True)\n",
    "os.makedirs(outputdir,exist_ok=True)\n",
    "\n",
    "#specify Google Chrome driver executable\n",
    "chrome_driver='./chromedriver_win32/chromedriver.exe'\n"
   ]
  },
  {
   "cell_type": "code",
   "execution_count": null,
   "metadata": {},
   "outputs": [],
   "source": [
    "#google's landsat collection (its over 4gb)\n",
    "google_scenes = pd.read_csv('https://storage.googleapis.com/gcp-public-data-landsat/index.csv.gz', compression='gzip',dtype='unicode')\n",
    "\n",
    "#retrieve the the whole Landsat 5 archive from 1988-2011 for Purwokerto and return the product urls (Google Cloud) \n",
    "product_url = getProductUrls_Google(google_scenes,datadir,path=120,row=65)"
   ]
  },
  {
   "cell_type": "code",
   "execution_count": null,
   "metadata": {
    "scrolled": true
   },
   "outputs": [],
   "source": [
    "#or load in the csv file containg the product url\n",
    "csv_file = getFilePath(datadir,None,'l5_df.csv')\n",
    "product_df = pd.read_csv(csv_file,index_col=0)\n",
    "product_url = listUrlFromDataframe(product_df)"
   ]
  },
  {
   "cell_type": "code",
   "execution_count": null,
   "metadata": {},
   "outputs": [],
   "source": [
    "#download data\n",
    "#specify authentication to access Google Cloud via script\n",
    "import getpass\n",
    "email='william.live94@gmail.com'\n",
    "password=getpass.getpass()\n",
    "\n",
    "lt_data=['B3','B2','B1']\n",
    "for url in product_url:\n",
    "    downloadlProducts_Google(url,scenedir,chrome_driver,lt_data,email,password)"
   ]
  },
  {
   "cell_type": "code",
   "execution_count": null,
   "metadata": {},
   "outputs": [],
   "source": [
    "#clip data based on boundary\n",
    "pwt_bound=getFilePath(datadir,'pwt_shp','.shp')\n",
    "with fiona.open(pwt_bound, 'r') as shapefile:\n",
    "    features = [feature[\"geometry\"] for feature in shapefile]\n",
    "    \n",
    "for product in os.listdir(scenedir):\n",
    "    product_dir = os.path.join(scenedir,product)\n",
    "    for file in os.listdir(product_dir):\n",
    "        image_file = os.path.join(product_dir,file)\n",
    "        band_nr = file.split('_')[-1].split('.')[0]\n",
    "        file_name = '{}_clip.TIF'.format(band_nr)\n",
    "        clipRaster(image_file,features,product_dir,file_name)"
   ]
  },
  {
   "cell_type": "code",
   "execution_count": null,
   "metadata": {},
   "outputs": [],
   "source": [
    "import glob\n",
    "for product in os.listdir(scenedir):\n",
    "    product_dir = os.path.join(scenedir,product)\n",
    "    red= glob.glob(product_dir+'/B3_clip.TIF')[0]\n",
    "    green = glob.glob(product_dir+'/B2_clip.TIF')[0]\n",
    "    blue = glob.glob(product_dir+'/B1_clip.TIF')[0]\n",
    "    \n",
    "    with rio.open(red,'r') as src_red:\n",
    "        image_red = src_red.read(1)\n",
    "    with rio.open(green,'r') as src_green:\n",
    "        image_green = src_green.read(1)\n",
    "    with rio.open(blue,'r') as src_blue:\n",
    "        image_blue = src_blue.read(1)\n",
    "    \n",
    "    rgb=np.dstack((image_red,image_green,image_blue))\n",
    "    rgb =normalize(rgb,255)\n",
    "    rgb = rgb.astype(rio.uint8)\n",
    "    \n",
    "    file_name=os.path.basename(product_dir+\"_rgb.png\")\n",
    "    file = os.path.join(outputdir,file_name)\n",
    "    img = Image.fromarray(rgb,'RGB')\n",
    "    img.save(file)\n",
    "\n"
   ]
  }
 ],
 "metadata": {
  "kernelspec": {
   "display_name": "Python 3",
   "language": "python",
   "name": "python3"
  },
  "language_info": {
   "codemirror_mode": {
    "name": "ipython",
    "version": 3
   },
   "file_extension": ".py",
   "mimetype": "text/x-python",
   "name": "python",
   "nbconvert_exporter": "python",
   "pygments_lexer": "ipython3",
   "version": "3.7.2"
  }
 },
 "nbformat": 4,
 "nbformat_minor": 2
}
